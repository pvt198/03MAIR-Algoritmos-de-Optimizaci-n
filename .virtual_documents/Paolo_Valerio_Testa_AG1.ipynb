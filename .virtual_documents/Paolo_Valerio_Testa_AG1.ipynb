





#Torres de Hanoi - Divide y venceras
################################################################################


################################################################
def Torres_Hanoi(N, desde, hasta):
  #N - Nº de fichas
  #desde - torre inicial
  #hasta - torre fina
  if N==1 :
    print("Lleva la ficha desde " + str(desde) + " hasta " + str(hasta))

  else:
    Torres_Hanoi(N-1, desde, 6-desde-hasta)
    print("Lleva la ficha desde " + str(desde) + " hasta " + str(hasta))
    Torres_Hanoi(N-1, 6-desde-hasta,  hasta)

Torres_Hanoi(3, 1, 3)
################################################################


def Torres_Hanoi(N, desde, hasta, torres):
    # Caso base: si solo hay una ficha, moverla directamente
    if N == 1:
        # Quitar la ficha de la torre "desde" y agregarla a la torre "hasta"
        disk = torres[desde].pop()  # Extraer la ficha de la torre "desde"
        torres[hasta].append(disk)  # Colocar la ficha en la torre "hasta"

        # Imprimir el movimiento realizado
        print(f"Lleva la ficha {disk} desde torre {desde+1} hasta torre {hasta+1}")
        # Mostrar el estado actual de las torres
        print("Estado de las torres:")
        mostrar_torres(torres)
    else:
        # Mover las N-1 fichas superiores a la torre auxiliar
        Torres_Hanoi(N-1, desde, 3-desde-hasta, torres)

        # Mover la ficha N a la torre de destino
        disk = torres[desde].pop()  # Extraer la ficha de la torre "desde"
        torres[hasta].append(disk)  # Colocar la ficha en la torre "hasta"
        print(f"Lleva la ficha {disk} desde torre {desde+1} hasta torre {hasta+1}")
        print("Estado de las torres:")
        mostrar_torres(torres)

        # Mover las N-1 fichas de la torre auxiliar a la torre de destino
        Torres_Hanoi(N-1, 3-desde-hasta, hasta, torres)

# Función para mostrar el estado de las torres
def mostrar_torres(torres):
    for i, torre in enumerate(torres):
        # Imprimir el número de la torre y las fichas que contiene
        print(f"Torre {i+1}: {torre}")
    # Separador visual entre cada movimiento
    print("-" * 20)

# Inicializamos las 3 torres con N discos
N = 3
torres = [list(range(N, 0, -1)), [], []]  # Torre 1 tiene N fichas, las demás están vacías

# Mostrar estado inicial de las torres
print("Estado inicial de las torres:")
mostrar_torres(torres)

# Ejecutar el algoritmo de Torres de Hanói
Torres_Hanoi(N, 0, 2, torres)






#Cambio de monedas - Técnica voraz
################################################################################
SISTEMA = [11, 5 , 3, 1  ]
################################################################
def cambio_monedas(CANTIDAD,SISTEMA):
#....
  SOLUCION = [0]*len(SISTEMA)
  ValorAcumulado = 0

  for i,valor in enumerate(SISTEMA):
    monedas = (CANTIDAD-ValorAcumulado)//valor
    SOLUCION[i] = monedas
    ValorAcumulado = ValorAcumulado + monedas*valor

    if CANTIDAD == ValorAcumulado:
      return SOLUCION

  print("No es posible encontrar solucion")

cambio_monedas(25,SISTEMA)


################################################################


#Cambio de monedas - Técnica voraz
# SISTEMA DE QUE NO SE PUEDE ENCUENTRAR SOLUCION!
################################################################################
SISTEMA = [7, 5 , 3,  ]
################################################################
def cambio_monedas(CANTIDAD,SISTEMA):
#....
  SOLUCION = [0]*len(SISTEMA)
  ValorAcumulado = 0

  for i,valor in enumerate(SISTEMA):
    monedas = (CANTIDAD-ValorAcumulado)//valor
    SOLUCION[i] = monedas
    ValorAcumulado = ValorAcumulado + monedas*valor

    if CANTIDAD == ValorAcumulado:
      return SOLUCION

  print("No es posible encontrar solucion")

cambio_monedas(25,SISTEMA)





#N Reinas - Vuelta Atrás()
################################################################################

#Verifica que en la solución parcial no hay amenzas entre reinas
################################################################
def es_prometedora(SOLUCION,etapa):
################################################################
  #print(SOLUCION)
  #Si la solución tiene dos valores iguales no es valida => Dos reinas en la misma fila
  for i in range(etapa+1):
    #print("El valor " + str(SOLUCION[i]) + " está " +  str(SOLUCION.count(SOLUCION[i])) + " veces")
    if SOLUCION.count(SOLUCION[i]) > 1:
      return False

    #Verifica las diagonales
    for j in range(i+1, etapa +1 ):
      #print("Comprobando diagonal de " + str(i) + " y " + str(j))
      if abs(i-j) == abs(SOLUCION[i]-SOLUCION[j]) : return False
  return True

#Traduce la solución al tablero
################################################################
def escribe_solucion(S):
################################################################
  n = len(S)
  for x in range(n):
    print("")
    for i in range(n):
      if S[i] == x+1:
        print(" X " , end="")
      else:
        print(" - ", end="")



#Proceso principal de N-Reinas
################################################################
def reinas(N, solucion=[],etapa=0):
################################################################
### ....
  if len(solucion) == 0:         # [0,0,0...]
    solucion = [0 for i in range(N) ]

  for i in range(1, N+1):
    solucion[etapa] = i
    if es_prometedora(solucion, etapa):
      if etapa == N-1:
        print(solucion)
        escribe_solucion(solucion)
      else:
        reinas(N, solucion, etapa+1)
    else:
      None

  solucion[etapa] = 0

reinas(8,solucion=[],etapa=0)


escribe_solucion([6, 4, 1, 5, 8, 2, 7, 3])


#Viaje por el rio - Programación dinámica
################################################################################

TARIFAS = [
[0,5,4,3,999,999,999],
[999,0,999,2,3,999,11],
[999,999, 0,1,999,4,10],
[999,999,999, 0,5,6,9],
[999,999, 999,999,0,999,4],
[999,999, 999,999,999,0,3],
[999,999,999,999,999,999,0]
]

#999 se puede sustituir por float("inf")


#Calculo de la matriz de PRECIOS y RUTAS
################################################################
def Precios(TARIFAS):
################################################################
  #Total de Nodos
  N = len(TARIFAS[0])

  #Inicialización de la tabla de precios
  PRECIOS = [ [9999]*N for i in [9999]*N]
  RUTA = [ [""]*N for i in [""]*N]

  for i in range(0,N-1):
    RUTA[i][i] = i             #Para ir de i a i se "pasa por i"
    PRECIOS[i][i] = 0          #Para ir de i a i se se paga 0
    for j in range(i+1, N):
      MIN = TARIFAS[i][j]
      RUTA[i][j] = i

      for k in range(i, j):
        if PRECIOS[i][k] + TARIFAS[k][j] < MIN:
            MIN = min(MIN, PRECIOS[i][k] + TARIFAS[k][j] )
            RUTA[i][j] = k          #Anota que para ir de i a j hay que pasar por k
        PRECIOS[i][j] = MIN

  return PRECIOS,RUTA
################################################################

PRECIOS,RUTA = Precios(TARIFAS)
#print(PRECIOS[0][6])

print("PRECIOS")
for i in range(len(TARIFAS)):
  print(PRECIOS[i])

print("\nRUTA")
for i in range(len(TARIFAS)):
  print(RUTA[i])

#Determinar la ruta con Recursividad
def calcular_ruta(RUTA, desde, hasta):
  if desde == hasta:
    #print("Ir a :" + str(desde))
    return ""
  else:
    return str(calcular_ruta( RUTA, desde, RUTA[desde][hasta])) +  \
                ',' + \
                str(RUTA[desde][hasta] \
              )

print("\nLa ruta es:")
calcular_ruta(RUTA, 0,6)
