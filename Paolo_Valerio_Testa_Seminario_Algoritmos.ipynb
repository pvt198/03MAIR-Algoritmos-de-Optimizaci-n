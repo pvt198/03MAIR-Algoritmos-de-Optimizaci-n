{
  "nbformat": 4,
  "nbformat_minor": 0,
  "metadata": {
    "colab": {
      "provenance": [],
      "include_colab_link": true
    },
    "kernelspec": {
      "name": "python3",
      "display_name": "Python 3"
    }
  },
  "cells": [
    {
      "cell_type": "markdown",
      "metadata": {
        "id": "view-in-github",
        "colab_type": "text"
      },
      "source": [
        "<a href=\"https://colab.research.google.com/github/pvt198/03MAIR-Algoritmos-de-Optimizaci-n/blob/main/Paolo_Valerio_Testa_Seminario_Algoritmos.ipynb\" target=\"_parent\"><img src=\"https://colab.research.google.com/assets/colab-badge.svg\" alt=\"Open In Colab\"/></a>"
      ]
    },
    {
      "cell_type": "markdown",
      "metadata": {
        "id": "hVbXYX-RfPWh"
      },
      "source": [
        "# Algoritmos de optimización - Seminario<br>\n",
        "Nombre y Apellidos:  Paolo Valerio Testa <br>\n",
        "Url: https://github.com/.../03MAIR---Algoritmos-de-Optimizacion---2019/tree/master/SEMINARIO<br>\n",
        "Problema:\n",
        "> 1. Sesiones de doblaje <br>\n",
        ">2. Organizar los horarios de partidos de La Liga<br>\n",
        ">3. Combinar cifras y operaciones\n",
        "\n",
        "Descripción del problema:(copiar enunciado)\n",
        "\n",
        "....\n",
        "\n",
        "(*) La respuesta es obligatoria\n",
        "\n",
        "\n",
        "\n",
        "\n",
        "\n",
        "                                        "
      ]
    },
    {
      "cell_type": "markdown",
      "source": [
        "Problema 3. Combinar cifras y operaciones\n",
        "\n",
        "• El problema consiste en analizar el siguiente problema y diseñar un algoritmo que lo resuelva.\n",
        "\n",
        "• Disponemos de las 9 cifras del 1 al 9 (excluimos el cero) y de los 4 signos básicos de las operaciones fundamentales: suma(+), resta(-), multiplicación(*) y división(/)\n",
        "\n",
        "• Debemos combinarlos alternativamente sin repetir ninguno de ellos para obtener una cantidad dada. Un ejemplo sería para obtener el 4:\n",
        "\n",
        "4+2-6/3*1 = 4\n",
        "\n",
        "• Debe analizarse el problema para encontrar todos los valores enteros posibles planteando las siguientes cuestiones:\n",
        "- ¿Qué valor máximo y mínimo se pueden obtener según las condiciones del problema?\n",
        "- ¿Es posible encontrar todos los valores enteros posibles entre dicho mínimo y máximo ?"
      ],
      "metadata": {
        "id": "q4fwe4xrRi0W"
      }
    },
    {
      "cell_type": "code",
      "source": [],
      "metadata": {
        "id": "1EdQAVW6lX5g"
      },
      "execution_count": null,
      "outputs": []
    },
    {
      "cell_type": "markdown",
      "metadata": {
        "id": "3_-exlrTgLd-"
      },
      "source": [
        "\n",
        "(*)¿Cuantas posibilidades hay sin tener en cuenta las restricciones?<br>\n",
        "\n",
        "\n",
        "\n"
      ]
    },
    {
      "cell_type": "markdown",
      "source": [
        "El problema consiste en combinar las cifras del 1 al 9 y los operadores aritméticos básicos (+, -, *, /) para formar expresiones que resulten en un número dado. Como que se menciona que las cifras y lo signos no pueden repetirse, la primera parte de la pregunta pide contar cuántas posibilidades hay sin tener en cuenta de la restricción de no repeticiones.\n",
        "\n",
        "Si se utiliza la fórmula combinatoria, podemos abordar el problema como sigue:\n",
        "\n",
        "Total de combinaciones = Permutaciones de los numeros X Permutaciones de los operadores.\n",
        "\n",
        "Se la sequencia es de n numeros, habra n-1 operadores entere ellos.\n",
        "\n",
        "Con n=4 como en el ejemplo, las permutaciones de los numeros es 9^n = 9^4, y las permutaciones de los operadores es 4^(n^-1) = 4^3.\n",
        "\n",
        "Es importante notar que de estos no todos son enteros debido a la operación de división."
      ],
      "metadata": {
        "id": "oADcBMJ3TFIc"
      }
    },
    {
      "cell_type": "code",
      "source": [
        "# calculo con teoria\n",
        "n = 4                           # numero de cifras\n",
        "number_combinations = 9**n      # Combinaciones de 4 números\n",
        "operator_combinatons = 4**(n-1) # Combinaciones de 3 operadores\n",
        "\n",
        "total_combinations = number_combinations * operator_combinatons\n",
        "print(\"Numero combinaciones sin restincion de repeticion (calculo con teoria): \"+str(total_combinations))\n",
        "\n",
        "# forma alternativa de calculo con forza bruta\n",
        "import sys\n",
        "import itertools\n",
        "n = 4                            # numero de cifras\n",
        "\n",
        "\n",
        "def dynamic_product_count(levels, value_range): # levels es el numero de cifras o signos, value_range el range de valores que cada signo puede asumir\n",
        "    return sum(1 for _ in itertools.product(value_range, repeat=levels))\n",
        "\n",
        "\n",
        "def nested_for_count(levels, value_range, current=[]): # levels es el numero de cifras o signos, value_range el range de valores que cada signo puede asumir\n",
        "    if len(current) == levels:\n",
        "        return 1  # Contamos una combinación\n",
        "    count = 0\n",
        "    for i in value_range:\n",
        "        count += nested_for_count(levels, value_range, current + [i])\n",
        "    return count\n",
        "\n",
        "\n",
        "number_combinations = dynamic_product_count(4, range(1, 10))\n",
        "operator_combinatons = dynamic_product_count(3, range(1, 5))\n",
        "print(\"Numero combinaciones sin restincion de repeticion (calculo bruto con itertools): \"+str(total_combinations))\n",
        "\n",
        "number_combinations = nested_for_count(4, range(1, 10))\n",
        "operator_combinatons = nested_for_count(3, range(1, 5))\n",
        "print(\"Numero combinaciones sin restincion de repeticion (calculo bruto con for loops anidado): \"+str(total_combinations))"
      ],
      "metadata": {
        "id": "_uRvD217S1YF",
        "outputId": "a766b4fc-1439-4e6d-e97e-4427679b3dc0",
        "colab": {
          "base_uri": "https://localhost:8080/"
        }
      },
      "execution_count": 1,
      "outputs": [
        {
          "output_type": "stream",
          "name": "stdout",
          "text": [
            "Numero combinaciones sin restincion de repeticion (calculo con teoria): 419904\n",
            "Numero combinaciones sin restincion de repeticion (calculo bruto con itertools): 419904\n",
            "Numero combinaciones sin restincion de repeticion (calculo bruto con for loops anidado): 419904\n"
          ]
        }
      ]
    },
    {
      "cell_type": "code",
      "source": [],
      "metadata": {
        "id": "LF7hh5E9m09O"
      },
      "execution_count": 1,
      "outputs": []
    },
    {
      "cell_type": "markdown",
      "source": [
        "¿Cuantas posibilidades hay teniendo en cuenta todas las restricciones."
      ],
      "metadata": {
        "id": "oYP9mdaSS0AG"
      }
    },
    {
      "cell_type": "markdown",
      "metadata": {
        "id": "WfCUqJyKhPcw"
      },
      "source": [
        "Respuesta"
      ]
    },
    {
      "cell_type": "markdown",
      "source": [
        "Tenemos 9 dígitos: 1,2,3,4,5,6,7,8,9, y 4 operadores: +,*,-,/.\n",
        "Queremos formar una secuencia de n números, lo que implica n−1 operadores.\n",
        "\n",
        "Para cada uno de los n números que utilizamos, seleccionamos un número distinto de la lista de 9 posibles números. Esto significa que el primer número tiene 9 posibles opciones, el segundo número tiene 8 posibles opciones el tercer número tiene 7 opciones, y así sucesivamente. Por lo tanto, el número de formas en que podemos seleccionar n números es: 9 X 8 X 7 ... X (9 -n +1) = 9! / (9-n)!\n",
        "\n",
        "Para los n-1 operadores que deben intercalarse entre los números, también tenemos una restricción de no repetir. Esto significa que el primer operador puede seleccionarse de entre los 4 posibles, el segundo operador puede seleccionarse de entre los 3 restantes, y así sucesivamente.\n",
        "Por lo tanto, el número de formas en que podemos seleccionar n-1 operadores es:\n",
        "4 X 3 X 2 ... X (4 -(n-1) +1) = 4! / (5 -n)!\n",
        "\n",
        "El número total de combinaciones posibles bajo las restricciones de no repetir ni números ni operadores sería el producto de las dos expresiones anteriores:\n",
        "\n",
        "Total combinaciones = 9! / (9-n)! *  4! / (5 -n)!\n",
        "\n",
        "Es importante notar que de estos no todos son enteros debido a la operación de división."
      ],
      "metadata": {
        "id": "ce98AEUscqyZ"
      }
    },
    {
      "cell_type": "code",
      "source": [
        "# calculo con teoria\n",
        "import math\n",
        "\n",
        "n = 4                                                                # numero de cifras\n",
        "number_combinations = math.factorial(9) / math.factorial(9-n)        # Combinaciones de 4 números\n",
        "operator_combinatons = math.factorial(4) / math.factorial(5-n)       # Combinaciones de 3 operadores\n",
        "total_combinations = int(number_combinations * operator_combinatons)\n",
        "print(\"Numero combinaciones con restincion de repeticion (calculo con teoria): \"+str(total_combinations))\n",
        "\n",
        "\n",
        "# forma alternativa de calculo con forza bruta\n",
        "def nested_for_no_repeat(levels, current_nums=[], current_ops=[], available_nums=None, available_ops=None):\n",
        "    if available_nums is None: #true solo en prima ejecución\n",
        "        available_nums = list(range(1, 10))  # Números del 1 al 9\n",
        "    if available_ops is None: #true solo en prima ejecución\n",
        "        available_ops = ['+', '-', '*', '/']  # Operadores disponibles\n",
        "\n",
        "    if len(current_nums) == levels:\n",
        "        # Comprobamos que el número de operadores es uno menos que el de números\n",
        "        if len(current_ops) == levels - 1:\n",
        "            return 1  # Contamos una combinación válida\n",
        "        return 0\n",
        "\n",
        "    count = 0\n",
        "\n",
        "    # Si necesitamos elegir un número (en las posiciones impares)\n",
        "    if len(current_nums) <= len(current_ops):\n",
        "        for num in available_nums:\n",
        "            remaining_nums = available_nums.copy()\n",
        "            remaining_nums.remove(num)  # Eliminamos el número elegido\n",
        "            count += nested_for_no_repeat(levels, current_nums + [num], current_ops, remaining_nums, available_ops)\n",
        "    # Si necesitamos elegir un operador (en las posiciones pares)\n",
        "    else:\n",
        "        for op in available_ops:\n",
        "            remaining_ops = available_ops.copy()\n",
        "            remaining_ops.remove(op)  # Eliminamos el operador elegido\n",
        "            count += nested_for_no_repeat(levels, current_nums, current_ops + [op], available_nums, remaining_ops)\n",
        "\n",
        "    return count # en cada recusion count es inicializzado a 0 y es devuelto como 1 a la función llamante cuando una combinacion se encuentra\n",
        "\n",
        "# Prueba con 4 numeros\n",
        "levels = 4\n",
        "\n",
        "# Contamos las combinaciones válidas\n",
        "combinations_no_repeat = nested_for_no_repeat(levels)\n",
        "print(\"Numero combinaciones con restincion de repeticion (calculo bruto con for loops anidado): \"+str(combinations_no_repeat))\n"
      ],
      "metadata": {
        "id": "7qUxdk6WRiEP",
        "outputId": "43b29a8f-5474-44e5-d531-459b690b5ee5",
        "colab": {
          "base_uri": "https://localhost:8080/"
        }
      },
      "execution_count": 2,
      "outputs": [
        {
          "output_type": "stream",
          "name": "stdout",
          "text": [
            "Numero combinaciones con restincion de repeticion (calculo con teoria): 72576\n",
            "Numero combinaciones con restincion de repeticion (calculo bruto con for loops anidado): 72576\n"
          ]
        }
      ]
    },
    {
      "cell_type": "code",
      "metadata": {
        "id": "iq6Fe32MgpDX"
      },
      "source": [],
      "execution_count": 2,
      "outputs": []
    },
    {
      "cell_type": "markdown",
      "metadata": {
        "id": "dzynfVJahHoY"
      },
      "source": [
        "Modelo para el espacio de soluciones<br>\n",
        "(*) ¿Cual es la estructura de datos que mejor se adapta al problema? Argumentalo.(Es posible que hayas elegido una al principio y veas la necesidad de cambiar, arguentalo)\n"
      ]
    },
    {
      "cell_type": "markdown",
      "metadata": {
        "id": "xFIJrOwKi2Ti"
      },
      "source": [
        "Respuesta"
      ]
    },
    {
      "cell_type": "markdown",
      "source": [
        "La estructura de datos más adecuada para este problema es una lista de caracteres (números o operadores), ya que se necesitan generar y guardar múltiples combinaciones ordenadas de números y operadores.\n",
        "\n",
        "Además, como el algoritmo construye la secuencia de operaciones añadiendo un operador o número más en cada recursión, la lista es ideal para almacenar las operaciones en expansión, mientras que otra estructura de datos como la tupla, que es inmutable, no sería adecuada para la tarea. La lista también tiene un orden en los elementos almacenados, necesario para el correcto almacenamiento de la secuencia de operaciones, mientras que, por ejemplo, la estructura de datos \"set\" no tiene ninguno y por lo tanto no podría almacenar la operación de mi almacenamiento de los números y operadores individuales sin mantener su orden."
      ],
      "metadata": {
        "id": "Vm0n1LvnWS_y"
      }
    },
    {
      "cell_type": "code",
      "source": [],
      "metadata": {
        "id": "HVzHzXz_meGR"
      },
      "execution_count": 2,
      "outputs": []
    },
    {
      "cell_type": "markdown",
      "metadata": {
        "id": "7Z9U2W7bi-XS"
      },
      "source": [
        "Según el modelo para el espacio de soluciones<br>\n",
        "(*)¿Cual es la función objetivo?\n",
        "\n",
        "(*)¿Es un problema de maximización o minimización?"
      ]
    },
    {
      "cell_type": "markdown",
      "metadata": {
        "id": "hBalWLM7j1_d"
      },
      "source": [
        "Respuesta"
      ]
    },
    {
      "cell_type": "markdown",
      "source": [
        "La función objetivo es el resultado de la operación matemática con los n (=4) dígitos y 3 signos operativos sin repeticiones.\n",
        "\n",
        "Dado que una de las cuestiones del problema es encontrar el máximo y el mínimo de números enteros, el problema se compone de dos problemas individuales, uno de maximización y otro de minimización."
      ],
      "metadata": {
        "id": "9UmA9CJ1l5PH"
      }
    },
    {
      "cell_type": "code",
      "metadata": {
        "id": "pDA-rg3Gj5Lz"
      },
      "source": [],
      "execution_count": 2,
      "outputs": []
    },
    {
      "cell_type": "markdown",
      "metadata": {
        "id": "rlnTYgY1j6I2"
      },
      "source": [
        "Diseña un algoritmo para resolver el problema por fuerza bruta"
      ]
    },
    {
      "cell_type": "markdown",
      "metadata": {
        "id": "70rDgxYXkC8r"
      },
      "source": [
        "Respuesta\n",
        "\n",
        "Se diseña un algoritmo para encontrar los enteros máximo y mínimo por fuerza bruta y guardar los enteros generado.\n",
        "\n",
        "El algoritmo genera todas las combinaciones posibles de cifras y operaciones básicas (suma, resta, multiplicación y división) usando los números del 1 al 9, con el objetivo de encontrar todos los resultados enteros que se pueden obtener. Utiliza una técnica de fuerza bruta y una función recursiva para explorar combinaciones de números y operadores.\n",
        "\n",
        "Las variables globales son: minimo, establecido en infinito positivo para rastrear el valor mínimo encontrado; maximo, en infinito negativo para el valor máximo; y found_numbers, que almacena los resultados enteros generados.\n",
        "\n",
        "La función \"forza_bruta\" genera las combinaciones. Recibe parámetros como levels, qué es el número total de números; current_nums y current_ops, que mantienen la lista de números y operadores seleccionados; y available_nums y available_ops, que son los números y operadores disponibles para seleccionar. En la primera ejecución, se inicializan los números del 1 al 9 y los operadores básicos.\n",
        "\n",
        "Si el resultado es entero, se añade a found_numbers y se actualizan minimo y maximo si es necesario\n",
        "\n",
        "Al final, el algoritmo busca combinaciones con 4 números, imprime el número de pasos y los valores máximo y mínimo encontrados. Luego, verifica si todos los enteros entre minimo y maximo se pueden generar, imprimiendo un mensaje si algún número no puede ser producido, lo que sugiere que no es posible encontrar todos los valores enteros en ese rango."
      ]
    },
    {
      "cell_type": "code",
      "metadata": {
        "id": "CJb5sQ0qkENy"
      },
      "source": [
        "import math\n",
        "\n",
        "global minimo\n",
        "minimo = math.inf\n",
        "global maximo\n",
        "maximo = -math.inf\n",
        "global found_numbers\n",
        "found_numbers = []\n",
        "\n",
        "# forma alternativa de calculo con forza bruta\n",
        "def forza_bruta(levels, current_nums=[], current_ops=[], available_nums=None, available_ops=None):\n",
        "    global minimo\n",
        "    global maximo\n",
        "    global found_numbers\n",
        "\n",
        "\n",
        "    if available_nums is None: #true solo en prima ejecución\n",
        "        available_nums = list(range(1, 10))  # Números del 1 al 9\n",
        "    if available_ops is None: #true solo en prima ejecución\n",
        "        available_ops = ['+', '-', '*', '/']  # Operadores disponibles\n",
        "\n",
        "    if len(current_nums) == levels:\n",
        "        # Comprobamos que el número de operadores es uno menos que el de números\n",
        "        if len(current_ops) == levels - 1:\n",
        "            expression = \"\"\n",
        "            for i in range(levels):\n",
        "                expression += str(current_nums[i])\n",
        "                if i < levels - 1:\n",
        "                    expression += current_ops[i]\n",
        "            #check se es entero\n",
        "            if eval(expression) % 1 == 0:\n",
        "              found_numbers.append(int(eval(expression)))\n",
        "              if eval(expression)>maximo:\n",
        "                maximo = eval(expression)\n",
        "                #print(eval(expression))\n",
        "              if eval(expression)<minimo:\n",
        "                minimo = eval(expression)\n",
        "                #print(eval(expression))\n",
        "              return\n",
        "        return\n",
        "\n",
        "    # Si necesitamos elegir un número (en las posiciones impares)\n",
        "    if len(current_nums) <= len(current_ops):\n",
        "        for num in available_nums:\n",
        "            remaining_nums = available_nums.copy()\n",
        "            remaining_nums.remove(num)  # Eliminamos el número elegido\n",
        "            forza_bruta(levels, current_nums + [num], current_ops, remaining_nums, available_ops)\n",
        "    # Si necesitamos elegir un operador (en las posiciones pares)\n",
        "    else:\n",
        "        for op in available_ops:\n",
        "            remaining_ops = available_ops.copy()\n",
        "            remaining_ops.remove(op)  # Eliminamos el operador elegido\n",
        "            forza_bruta(levels, current_nums, current_ops + [op], available_nums, remaining_ops)\n",
        "\n",
        "    return\n",
        "\n",
        "# Prueba con 4 numeros\n",
        "levels = 4\n",
        "\n",
        "# Contamos las combinaciones válidas\n",
        "forza_bruta(levels)\n",
        "print(\"Máximo: \"+str(maximo))\n",
        "print(\"Mínimo: \"+str(minimo))\n",
        "found_numbers = (list(set(found_numbers)))\n",
        "print(found_numbers)\n",
        "for i in range(int(minimo),int(maximo+1)):\n",
        "  try:\n",
        "    found_numbers.remove(i)\n",
        "  except:\n",
        "    print(\"{} no generable en rango {} - {}\".format(i,minimo,maximo))\n",
        "    print(\"Entonces no es posible encontrar todos los valores enteros en el rango min-max!\")\n",
        "\n"
      ],
      "execution_count": null,
      "outputs": []
    },
    {
      "cell_type": "code",
      "source": [],
      "metadata": {
        "id": "iChlUD2Opzg8"
      },
      "execution_count": null,
      "outputs": []
    },
    {
      "cell_type": "markdown",
      "metadata": {
        "id": "tgrnsC2nkFa8"
      },
      "source": [
        "Calcula la complejidad del algoritmo por fuerza bruta"
      ]
    },
    {
      "cell_type": "markdown",
      "metadata": {
        "id": "9eUd3xwckP68"
      },
      "source": [
        "Respuesta"
      ]
    },
    {
      "cell_type": "markdown",
      "source": [
        "¡Se llama a la función de fuerza bruta un número de veces igual a ¡9!/(9-n)! * ¡4!/(5-n)! para crear todas las combinaciones posibles de operaciones permitidas.\n",
        "Cuando se han construido las operaciones verificando que están presentes 4 dígitos y 3 operadores (esto se verifica si len(actuales_numeros) == niveles -> TRUE),\n",
        "el ciclo para «for i in range(levels):» (levels es igual a n) construye la solución y luego evalúa si está por encima del máximo local, por debajo del mínimo y es entera.\n",
        "¡Entonces la complejidad computacional proporcional a:\n",
        "\n",
        "O(n) = 9!/(9-n)! * 4!/(5-n)! * n"
      ],
      "metadata": {
        "id": "9dID0v9zplR4"
      }
    },
    {
      "cell_type": "code",
      "source": [],
      "metadata": {
        "id": "9CSXl7-lp0R2"
      },
      "execution_count": null,
      "outputs": []
    },
    {
      "cell_type": "markdown",
      "metadata": {
        "id": "txbrmLmskReM"
      },
      "source": [
        "(*)Diseña un algoritmo que mejore la complejidad del algortimo por fuerza bruta. Argumenta porque crees que mejora el algoritmo por fuerza bruta"
      ]
    },
    {
      "cell_type": "markdown",
      "metadata": {
        "id": "hLrVwt5QkZPD"
      },
      "source": [
        "Ahora presentamos un algoritmo que reduce la complejidad computacional en comparación con un enfoque estándar de fuerza bruta filtrando la evaluación de las combinaciones mediante una técnica heurística y de backtracking.\n",
        "\n",
        "La técnica de backtracking se utiliza para evaluar las soluciones que se construyen a mano (cuando aún no tienen 4 dígitos) y descartar las soluciones que con tres elementos y operaciones no utilizadas aún no pueden superar el máximo y el mínimo actuales.\n",
        "\n",
        "El algoritmo también es heurístico porque descarta todas las soluciones parciales no interesantes: intuitivamente, un número no interesante se obtiene a partir de una división, que es la operación que más disminuye el módulo del resultado y luego su valor positivo máximo y su valor negativo mínimo.\n"
      ]
    },
    {
      "cell_type": "code",
      "metadata": {
        "id": "m1eyM21Vkabg"
      },
      "source": [
        "global minimo\n",
        "minimo = math.inf\n",
        "global maximo\n",
        "maximo = -math.inf\n",
        "global found_numbers\n",
        "found_numbers = []\n",
        "global no_entera\n",
        "no_entera = 0\n",
        "global no_tres\n",
        "no_tres = 0\n",
        "\n",
        "# forma alternativa de calculo con forza bruta\n",
        "def heur_backtracking(levels, current_nums=[], current_ops=[], available_nums=None, available_ops=None):\n",
        "    global minimo\n",
        "    global maximo\n",
        "    global steps\n",
        "    global no_entera\n",
        "    global no_tres\n",
        "\n",
        "    if available_nums is None: #true solo en prima ejecución\n",
        "        available_nums = list(range(1, 10))  # Números del 1 al 9\n",
        "    if available_ops is None: #true solo en prima ejecución\n",
        "        available_ops = ['+', '-', '*', '/']  # Operadores disponibles\n",
        "\n",
        "    # calcula la expresión construida hasta este punto\n",
        "    expression = \"\"\n",
        "    for i, num in enumerate(current_nums):\n",
        "      expression += str(num)\n",
        "      if i < len(current_nums) - 1:\n",
        "        expression += current_ops[i]\n",
        "\n",
        "    # descarta la soluciónes parciales no entera\n",
        "    if \"/\" in current_ops:\n",
        "      if eval(expression)%1 !=0:\n",
        "        no_entera = no_entera+1\n",
        "        return 0\n",
        "\n",
        "    # descarta tres dígitos que no pueden generar un máximo o un mínimo por encima y por debajo del máximo y el mínimo ya encontrados\n",
        "    if len(current_nums) == levels-1:\n",
        "        # Comprobamos que el número de operadores es uno menos que el de números\n",
        "        if len(current_ops) == levels - 2:\n",
        "          if eval(expression)<maximo:\n",
        "            if \"+\" in current_ops:\n",
        "              if \"*\" in current_ops:\n",
        "                no_tres = no_tres+1\n",
        "                return 0\n",
        "          if eval(expression)>minimo:\n",
        "            if \"-\" in current_ops:\n",
        "              if \"/\" in current_ops:\n",
        "                no_tres = no_tres+1\n",
        "                return 0\n",
        "\n",
        "    if len(current_nums) == levels:\n",
        "        # Comprobamos que el número de operadores es uno menos que el de números\n",
        "        if len(current_ops) == levels - 1:\n",
        "          found_numbers.append(int(eval(expression)))\n",
        "          if eval(expression)>maximo:\n",
        "            maximo = eval(expression)\n",
        "            return\n",
        "          if eval(expression)<minimo:\n",
        "            minimo = eval(expression)\n",
        "            return\n",
        "        return 0\n",
        "\n",
        "\n",
        "    # Si necesitamos elegir un número (en las posiciones impares)\n",
        "    if len(current_nums) <= len(current_ops):\n",
        "        for num in available_nums:\n",
        "            remaining_nums = available_nums.copy()\n",
        "            remaining_nums.remove(num)  # Eliminamos el número elegido\n",
        "            heur_backtracking(levels, current_nums + [num], current_ops, remaining_nums, available_ops)\n",
        "    # Si necesitamos elegir un operador (en las posiciones pares)\n",
        "    else:\n",
        "        for op in available_ops:\n",
        "            remaining_ops = available_ops.copy()\n",
        "            remaining_ops.remove(op)  # Eliminamos el operador elegido\n",
        "            heur_backtracking(levels, current_nums, current_ops + [op], available_nums, remaining_ops)\n",
        "\n",
        "    return 0\n",
        "\n",
        "# Prueba con 4 numeros\n",
        "levels = 4\n",
        "\n",
        "# Contamos las combinaciones válidas\n",
        "heur_backtracking(levels)\n",
        "print(\"Máximo: \"+str(maximo))\n",
        "print(\"Mínimo: \"+str(minimo))\n",
        "found_numbers = (list(set(found_numbers)))\n",
        "print(found_numbers)\n",
        "for i in range(int(minimo),int(maximo+1)):\n",
        "  try:\n",
        "    found_numbers.remove(i)\n",
        "  except:\n",
        "    print(\"{} no generable en rango {} - {}\".format(i,minimo,maximo))\n",
        "    print(\"Entonces no es posible encontrar todos los valores enteros en el rango min-max!\")\n",
        "print(\"Número de soluciones no entera descartada: {}\".format(no_entera))\n",
        "print(\"Número de soluciones descartada de tres dígitos que no pueden generar un máximo o un mínimo por encima y por debajo del máximo y el mínimo ya encontrados: {}\".format(no_tres))\n",
        "print(\"Número total de soluciones descartada: {}\".format(no_entera+no_tres))\n"
      ],
      "execution_count": null,
      "outputs": []
    },
    {
      "cell_type": "code",
      "source": [],
      "metadata": {
        "id": "6kioJPpdtPGw"
      },
      "execution_count": null,
      "outputs": []
    },
    {
      "cell_type": "markdown",
      "metadata": {
        "id": "eGDB4K6uk1iN"
      },
      "source": [
        "(*)Calcula la complejidad del algoritmo"
      ]
    },
    {
      "cell_type": "markdown",
      "metadata": {
        "id": "NhpTh_BPk1ms"
      },
      "source": [
        "Respuesta"
      ]
    },
    {
      "cell_type": "markdown",
      "source": [
        "El número de operaciones necesarias es igual al de antes menos el número de soluciones posibles eliminadas.\n",
        "\n",
        "Por lo tanto, la complejidad es en caso de n=4:\n",
        "O(n) = [ 9!/(9-n)! * 4!/(5-n)! - 11946 ] * n"
      ],
      "metadata": {
        "id": "tR8mcW-vtR7y"
      }
    },
    {
      "cell_type": "code",
      "source": [],
      "metadata": {
        "id": "6h6Z0yZt-UC9"
      },
      "execution_count": null,
      "outputs": []
    },
    {
      "cell_type": "markdown",
      "metadata": {
        "id": "3M6QjTsSkmYe"
      },
      "source": [
        "Según el problema (y tenga sentido), diseña un juego de datos de entrada aleatorios"
      ]
    },
    {
      "cell_type": "markdown",
      "metadata": {
        "id": "Jc3_OlyNkvjZ"
      },
      "source": [
        "Respuesta"
      ]
    },
    {
      "cell_type": "markdown",
      "source": [
        "La solución de cuatro dígitos y tres operadores se construye ahora recopilando dígitos y operadores de grupos generados aleatoriamente.\n",
        "\n"
      ],
      "metadata": {
        "id": "wISC0Pjbt0mN"
      }
    },
    {
      "cell_type": "markdown",
      "metadata": {
        "id": "zy5ZROmjlGo1"
      },
      "source": [
        "Aplica el algoritmo al juego de datos generado"
      ]
    },
    {
      "cell_type": "code",
      "metadata": {
        "id": "sJ-N2etjkyWc"
      },
      "source": [
        "global minimo\n",
        "minimo = math.inf\n",
        "global maximo\n",
        "maximo = -math.inf\n",
        "\n",
        "global found_numbers\n",
        "found_numbers = []\n",
        "\n",
        "import random\n",
        "\n",
        "# forma alternativa de calculo con forza bruta\n",
        "def aleatorio(levels, current_nums=[], current_ops=[], available_nums=None, available_ops=None):\n",
        "    global minimo\n",
        "    global minimo\n",
        "    global maximo\n",
        "\n",
        "    # calcula la expresión construida hasta este punto\n",
        "    expression = \"\"\n",
        "    for i, num in enumerate(current_nums):\n",
        "      expression += str(num)\n",
        "      if i < len(current_nums) - 1:\n",
        "        expression += current_ops[i]\n",
        "\n",
        "    # descarta la soluciónes parciales no entera\n",
        "    if \"/\" in current_ops:\n",
        "      if eval(expression)%1 !=0:\n",
        "        return 0\n",
        "\n",
        "    if len(current_nums) == levels-1:\n",
        "        # Comprobamos que el número de operadores es uno menos que el de números\n",
        "        if len(current_ops) == levels - 2:\n",
        "          if eval(expression)<maximo:\n",
        "            if \"+\" in current_ops:\n",
        "              if \"*\" in current_ops:\n",
        "                return 0\n",
        "          if eval(expression)>minimo:\n",
        "            if \"-\" in current_ops:\n",
        "              if \"/\" in current_ops:\n",
        "                return 0\n",
        "\n",
        "    if len(current_nums) == levels:\n",
        "        # Comprobamos que el número de operadores es uno menos que el de números\n",
        "        if len(current_ops) == levels - 1:\n",
        "          found_numbers.append(int(eval(expression)))\n",
        "          if eval(expression)>maximo:\n",
        "            maximo = eval(expression)\n",
        "            return\n",
        "          if eval(expression)<minimo:\n",
        "            minimo = eval(expression)\n",
        "            return\n",
        "        return 0\n",
        "\n",
        "\n",
        "    # Si necesitamos elegir un número (en las posiciones impares)\n",
        "    if len(current_nums) <= len(current_ops):\n",
        "        for num in available_nums:\n",
        "            remaining_nums = available_nums.copy()\n",
        "            remaining_nums.remove(num)  # Eliminamos el número elegido\n",
        "            aleatorio(levels, current_nums + [num], current_ops, remaining_nums, available_ops)\n",
        "    # Si necesitamos elegir un operador (en las posiciones pares)\n",
        "    else:\n",
        "        for op in available_ops:\n",
        "            remaining_ops = available_ops.copy()\n",
        "            remaining_ops.remove(op)  # Eliminamos el operador elegido\n",
        "            aleatorio(levels, current_nums, current_ops + [op], available_nums, remaining_ops)\n",
        "\n",
        "    return 0\n",
        "\n",
        "# Prueba con 4 numeros\n",
        "levels = 4\n",
        "\n",
        "#La solución se construirá con un conjunto aleatorio de números y operadores\n",
        "available_nums = random.choices(list(range(1, 10)), k=6)\n",
        "print(\"Números aleatorios con los que se construyeron las soluciones\")\n",
        "print(available_nums)\n",
        "print(\"Operaciones aleatorias con las que se construyeron las soluciones\")\n",
        "available_ops = random.choices(['+', '-', '*', '/'], k=4)\n",
        "print(available_ops)\n",
        "\n",
        "# Contamos las combinaciones válidas\n",
        "aleatorio(levels,available_nums=available_nums,available_ops=available_ops)\n",
        "print(\"Máximo: \"+str(maximo))\n",
        "print(\"Mínimo: \"+str(minimo))\n",
        "found_numbers = (list(set(found_numbers)))\n",
        "#print(found_numbers)\n",
        "non_generable = []\n",
        "for i in range(int(minimo),int(maximo+1)):\n",
        "  try:\n",
        "    found_numbers.remove(i)\n",
        "  except:\n",
        "    non_generable.append(i)\n",
        "print(\"Valores no generable en rango {} - {}:\".format(minimo,maximo))\n",
        "print(non_generable)\n",
        "\n"
      ],
      "execution_count": null,
      "outputs": []
    },
    {
      "cell_type": "code",
      "source": [],
      "metadata": {
        "id": "EsHnlWw3-WAb"
      },
      "execution_count": null,
      "outputs": []
    },
    {
      "cell_type": "markdown",
      "metadata": {
        "id": "eTFWUJQrtGcv"
      },
      "source": [
        "Enumera las referencias que has utilizado(si ha sido necesario) para llevar a cabo el trabajo"
      ]
    },
    {
      "cell_type": "markdown",
      "metadata": {
        "id": "YKQ_mRBttWsP"
      },
      "source": [
        "Respuesta"
      ]
    },
    {
      "cell_type": "markdown",
      "source": [
        "Para hacer este trabajo utilicé principalmente las diapositivas del curso para la teoría y foros en línea para consejos de programación"
      ],
      "metadata": {
        "id": "7bi_Hfa_yJia"
      }
    },
    {
      "cell_type": "code",
      "source": [],
      "metadata": {
        "id": "7VbymP7jyJUZ"
      },
      "execution_count": null,
      "outputs": []
    },
    {
      "cell_type": "markdown",
      "metadata": {
        "id": "kAkDPUyRtYyH"
      },
      "source": [
        "Describe brevemente las lineas de como crees que es posible avanzar en el estudio del problema. Ten en cuenta incluso posibles variaciones del problema y/o variaciones al alza del tamaño"
      ]
    },
    {
      "cell_type": "markdown",
      "metadata": {
        "id": "IE0uZmo-tZu-"
      },
      "source": [
        "Respuesta"
      ]
    },
    {
      "cell_type": "markdown",
      "source": [
        "La solución propuesta podría mejorarse con programación dinámica almacenando y reutilizando parte de la solución ya resuelta."
      ],
      "metadata": {
        "id": "Q9zUrtdCyLAs"
      }
    },
    {
      "cell_type": "code",
      "source": [],
      "metadata": {
        "id": "ZZgz6bvQ-d83"
      },
      "execution_count": null,
      "outputs": []
    }
  ]
}